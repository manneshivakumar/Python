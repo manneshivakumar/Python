{
 "cells": [
  {
   "cell_type": "code",
   "execution_count": null,
   "metadata": {},
   "outputs": [],
   "source": [
    "##\n",
    "# any(); all(); abs();\n",
    "##"
   ]
  },
  {
   "cell_type": "markdown",
   "metadata": {},
   "source": [
    "# Lists Mutable\n",
    "# Tuple Immutable\n",
    "# Set Immutable, no duplicate, no order "
   ]
  },
  {
   "cell_type": "code",
   "execution_count": 84,
   "metadata": {},
   "outputs": [
    {
     "name": "stdout",
     "output_type": "stream",
     "text": [
      "<class 'list'>\n",
      "15\n",
      "Grab everything\n",
      "[1, 2, 3, 1.1, 2.2, 3.3, 'A', 'B', [1, 2, 3], (1, 2, 3), {1, 2, 3}, {1: 2, 3: 4}, True, False, 'List']\n",
      " Grab everything past the 3rd term all the way to the length of s which is len(s)\n",
      "[1.1, 2.2, 3.3, 'A', 'B', [1, 2, 3], (1, 2, 3), {1, 2, 3}, {1: 2, 3: 4}, True, False, 'List']\n",
      " Grab everything UP TO the 3rd index\n",
      "[1, 2, 3]\n",
      " Grab last item\n",
      "List\n",
      " Grab first item\n",
      "1\n",
      " Grab everything\n",
      "[1, 2, 3, 1.1, 2.2, 3.3, 'A', 'B', [1, 2, 3], (1, 2, 3), {1, 2, 3}, {1: 2, 3: 4}, True, False, 'List']\n",
      " Grab everything, but go in step sizes of 2\n",
      "[2.2, 3.3, 'A', 'B', [1, 2, 3], (1, 2, 3), {1, 2, 3}, {1: 2, 3: 4}, True, False, 'List']\n",
      " Grab everything, but go in step sizes of 2\n",
      "[1, 3, 2.2, 'A', [1, 2, 3], {1, 2, 3}, True, 'List']\n",
      " We can use this to print a string backwards\n",
      "['List', False, True, {1: 2, 3: 4}, {1, 2, 3}, (1, 2, 3), [1, 2, 3], 'B', 'A', 3.3, 2.2, 1.1, 3, 2, 1]\n",
      " Adding\n",
      "[1, 2, 3, 1.1, 2.2, 3.3, 'A', 'B', [1, 2, 3], (1, 2, 3), {1, 2, 3}, {1: 2, 3: 4}, True, False, 'List', 1]\n",
      "[111, 1, 2, 3, 1.1, 2.2, 3.3, 'A', 'B', [1, 2, 3], (1, 2, 3), {1, 2, 3}, {1: 2, 3: 4}, True, False, 'List', 1]\n",
      "Del\n",
      "[111, 1, 2, 1.1, 2.2, 3.3, 'A', 'B', [1, 2, 3], (1, 2, 3), {1, 2, 3}, {1: 2, 3: 4}, True, False, 'List', 1]\n",
      "pop\n",
      "[111, 1, 2, 1.1, 2.2, 3.3, 'A', 'B', [1, 2, 3], (1, 2, 3), {1, 2, 3}, {1: 2, 3: 4}, True, False, 'List']\n",
      "pop\n",
      "['List', False, True, {1: 2, 3: 4}, {1, 2, 3}, (1, 2, 3), [1, 2, 3], 'B', 'A', 3.3, 2.2, 1.1, 2, 1, 111]\n",
      "sort [12, 6, 4, 3, 2, 1]\n",
      "[1, 2, 3, [4, 5]]\n",
      "[1, 2, [4, 5], 3]\n",
      "[1, 2, 3, 4, 5]\n",
      "[9, 2, 52, 1, 3, 6, 4, 8, 98, 0]\n",
      "[0, 1, 2, 3, 4, 6, 8, 9, 52, 98]\n",
      "min 0\n",
      "max 98\n",
      "sum 183\n",
      "2\n",
      "False\n",
      "True\n",
      "2 Art\n",
      "3 Phy\n",
      "4 Social\n",
      "5 Math\n",
      "AS List=  ['Art', 'Phy', 'Social', 'Math']\n",
      "AS String=  Art, Phy, Social, Math\n",
      "converting to list ['Art', ' Phy', ' Social', ' Math']\n"
     ]
    }
   ],
   "source": [
    "#Lists\n",
    "L = [1,2,3,1.1,2.2,3.3,'A',\"B\",[1,2,3],(1,2,3),{1,2,3},{1:2,3:4},True,False,'List'] # True <> true\n",
    "\n",
    "# Type\n",
    "print(type(L))\n",
    "\n",
    "print(len(L))\n",
    "\n",
    "print('Grab everything')\n",
    "print(L[:])\n",
    "\n",
    "print(' Grab everything past the 3rd term all the way to the length of s which is len(s)')\n",
    "print(L[3:])\n",
    "\n",
    "print(' Grab everything UP TO the 3rd index')\n",
    "print(L[:3])# \n",
    "\n",
    "print(' Grab last item')\n",
    "print(L[-1])\n",
    "\n",
    "print(' Grab first item')\n",
    "print(L[0])\n",
    "\n",
    "print(' Grab everything')\n",
    "print(L[::])\n",
    "\n",
    "print(' Grab everything, but go in step sizes of 2')\n",
    "print(L[4::])\n",
    "\n",
    "print(' Grab everything, but go in step sizes of 2')\n",
    "print(L[::2])\n",
    "\n",
    "print(' We can use this to print a string backwards')\n",
    "print(L[::-1])\n",
    "\n",
    "print(' Adding')\n",
    "L.append(1)\n",
    "print(L)\n",
    "\n",
    "L.insert(0,111)\n",
    "print(L)\n",
    "\n",
    "print('Del')\n",
    "L.remove(3) # 3 is index no\n",
    "print(L)\n",
    "\n",
    "print('pop')\n",
    "L.pop() # pop's last element \n",
    "print(L)\n",
    "\n",
    "print('pop')\n",
    "L.reverse() # pop's last element \n",
    "print(L)\n",
    "\n",
    "\n",
    "B = [4,1,6,12,2,3]\n",
    "B.sort(reverse = True)\n",
    "print('sort',B)\n",
    "\n",
    "A = [1,2,3]\n",
    "B = [4,5]\n",
    "A.append(B)\n",
    "print(A)\n",
    "\n",
    "\n",
    "A = [1,2,3]\n",
    "B = [4,5]\n",
    "\n",
    "A.insert(2,B)\n",
    "print(A)\n",
    "\n",
    "\n",
    "\n",
    "A = [1,2,3]\n",
    "B = [4,5]\n",
    "A.extend(B)\n",
    "print(A)\n",
    "\n",
    "\n",
    "D = [9,2,52,1,3,6,4,8,98,0]\n",
    "S = sorted(D)\n",
    "print(D)\n",
    "print(S)\n",
    "print('min',min(D))\n",
    "print('max',max(D))\n",
    "print('sum',sum(D))\n",
    "\n",
    "print(D.index(52))\n",
    "\n",
    "print(33 in D)\n",
    "print(3 in D)\n",
    "\n",
    "courses = ['Art','Phy','Social','Math']\n",
    "for index, value in enumerate(courses, start = 2):\n",
    "    print(index, value)\n",
    "    \n",
    "courses_L = ['Art','Phy','Social','Math']\n",
    "courses_S = ', '.join(courses_L)\n",
    "new_c = courses_S.split(',')\n",
    "print('AS List= ',courses_L)\n",
    "print('AS String= ',courses_S)\n",
    "print('converting to list',new_c)"
   ]
  },
  {
   "cell_type": "code",
   "execution_count": null,
   "metadata": {},
   "outputs": [],
   "source": [
    "#Tuple\n",
    "L = (1,2,3,1.1,2.2,3.3,'A',\"B\",[1,2,3],(1,2,3),{1,2,3},{1:2,3:4},True,False, 'Tuple') # True <> true\n",
    "\n",
    "# Type\n",
    "print(type(L))\n",
    "\n",
    "# Grab everything\n",
    "print(L[:])\n",
    "\n",
    "# Grab everything past the 3rd term all the way to the length of s which is len(s)\n",
    "print(L[3:])\n",
    "\n",
    "# Grab everything UP TO the 3rd index\n",
    "print(L[:3])# \n",
    "\n",
    "# Grab last item\n",
    "print(L[-1])\n",
    "\n",
    "# Grab first item\n",
    "print(L[0])\n",
    "\n",
    "# Grab everything\n",
    "print(L[::])\n",
    "\n",
    "# Grab everything, but go in step sizes of 2\n",
    "print(L[4::])\n",
    "\n",
    "# Grab everything, but go in step sizes of 2\n",
    "print(L[::2])\n",
    "\n",
    "# We can use this to print a string backwards\n",
    "print(L[::-1])"
   ]
  },
  {
   "cell_type": "code",
   "execution_count": null,
   "metadata": {},
   "outputs": [],
   "source": [
    "# Mutable\n",
    "list_1 = ['History', 'Math', 'Physics', 'CompSci']\n",
    "list_2 = list_1\n",
    "\n",
    "print(list_1)\n",
    "print(list_2)\n",
    "\n",
    "# list_1[0] = 'Art'\n",
    "\n",
    "# print(list_1)\n",
    "# print(list_2)\n",
    "\n",
    "\n",
    "# Immutable\n",
    "# tuple_1 = ('History', 'Math', 'Physics', 'CompSci')\n",
    "# tuple_2 = tuple_1\n",
    "\n",
    "# print(tuple_1)\n",
    "# print(tuple_2)\n",
    "\n",
    "# tuple_1[0] = 'Art'\n",
    "\n",
    "# print(tuple_1)\n",
    "# print(tuple_2)\n",
    "\n",
    "# Sets\n",
    "cs_courses = {'History', 'Math', 'Physics', 'CompSci'}\n",
    "\n",
    "print(cs_courses)\n",
    "\n",
    "\n",
    "# Empty Lists\n",
    "empty_list = []\n",
    "empty_list = list()\n",
    "\n",
    "# Empty Tuples\n",
    "empty_tuple = ()\n",
    "empty_tuple = tuple()\n",
    "\n",
    "# Empty Sets\n",
    "empty_set = {} # This isn't right! It's a dict\n",
    "empty_set = set()"
   ]
  },
  {
   "cell_type": "code",
   "execution_count": 88,
   "metadata": {},
   "outputs": [
    {
     "name": "stdout",
     "output_type": "stream",
     "text": [
      "{1.1, 2.2, 3.3, 4}\n",
      "<class 'set'>\n",
      "{1, 2, 3, 1.1, 2.2, 3.3, 4}\n",
      "True\n"
     ]
    }
   ],
   "source": [
    "#Sets # we can use set functions like union intersection\n",
    "L = {1,2,3,1.1,1.1,2.2,3.3,4} # True <> true\n",
    "M = {1,2,3}\n",
    "\n",
    "print(L.difference(M))\n",
    "\n",
    "# Type\n",
    "print(type(L))\n",
    "\n",
    "print(L)\n",
    "\n",
    "print(1 in L) # we can do the same in L S T, but S is optimized for this"
   ]
  },
  {
   "cell_type": "code",
   "execution_count": null,
   "metadata": {},
   "outputs": [],
   "source": [
    "#Dict\n",
    "D = {1:11, 2:2.2 , 3:'A', 4:\"5\", 5:[1,2], 6:(1,2), 7: {1,2}, 8: {1:'a', 2:'b'}}\n",
    "print(D, type(D))"
   ]
  },
  {
   "cell_type": "code",
   "execution_count": null,
   "metadata": {},
   "outputs": [],
   "source": [
    "#abs\n",
    "print(abs(-1.3))"
   ]
  },
  {
   "cell_type": "code",
   "execution_count": null,
   "metadata": {},
   "outputs": [],
   "source": [
    "#any(); if element is iterable or not\n",
    "L = [1,2,3]\n",
    "print(any(L))"
   ]
  },
  {
   "cell_type": "code",
   "execution_count": null,
   "metadata": {},
   "outputs": [],
   "source": [
    "#all(); if element is iterable or not\n",
    "L = [1,2,3]\n",
    "print(any(L))"
   ]
  },
  {
   "cell_type": "code",
   "execution_count": null,
   "metadata": {},
   "outputs": [],
   "source": [
    "#converts ascii characters\n",
    "print(ascii('\\xf6'))\n",
    "print('\\xf6')"
   ]
  },
  {
   "cell_type": "code",
   "execution_count": null,
   "metadata": {},
   "outputs": [],
   "source": [
    "#bin() --> returns binary of a number\n",
    "print(bin(5))"
   ]
  },
  {
   "cell_type": "code",
   "execution_count": null,
   "metadata": {},
   "outputs": [],
   "source": [
    "#bool() --> returns true or not based on input\n",
    "print(bool(20))"
   ]
  },
  {
   "cell_type": "code",
   "execution_count": null,
   "metadata": {},
   "outputs": [],
   "source": [
    "#bytearray --> returns \n",
    "#bytes\n"
   ]
  },
  {
   "cell_type": "code",
   "execution_count": null,
   "metadata": {},
   "outputs": [],
   "source": [
    "#callable() --> checks if a method is callable\n",
    "x = 5\n",
    "print(callable(x))\n",
    "\n",
    "def testfn():\n",
    "    print(\"test\")\n",
    "\n",
    "y = testfn\n",
    "print(callable(y))    "
   ]
  },
  {
   "cell_type": "code",
   "execution_count": null,
   "metadata": {},
   "outputs": [],
   "source": [
    "#char --> returns character of ascii code\n",
    "print(chr(91))\n",
    "print(chr(68))"
   ]
  },
  {
   "cell_type": "markdown",
   "metadata": {},
   "source": [
    "# Strings"
   ]
  },
  {
   "cell_type": "code",
   "execution_count": null,
   "metadata": {},
   "outputs": [],
   "source": [
    "#Strings\n",
    "message = 'Shiva'\n",
    "print(message)\n",
    "\n",
    "message = 'shiva\\'sbook' # use \\ to escape '\n",
    "print(message)\n",
    "\n",
    "message = \"shiva\\'sbook\" # use \\ to escape '\n",
    "print(message)\n",
    "\n",
    "message = \"shiva\\\"sbook\" # use \\ to escape '\n",
    "print(message)\n",
    "\n",
    "message = '''shiva'sbook''' # use \\ to escape '\n",
    "print(message)\n",
    "\n",
    "message = \"\"\"shiva'sbook\"\"\" # use \\ to escape '\n",
    "print(message)\n",
    "\n",
    "message = 'SHIVA KUMAR'\n",
    "print(len(message))\n",
    "\n",
    "print(message.lower())\n",
    "\n",
    "print(message.upper())\n",
    "\n",
    "print(message.count('S'))\n",
    "\n",
    "print(message.find('L'))\n",
    "\n",
    "K = 'shiva manne'\n",
    "print(K.replace('manne','kumar'))\n",
    "\n",
    "A = 'shiva m'\n",
    "L = A.replace('m','manne')\n",
    "print(L)\n",
    "\n",
    "greeting = 'hello'\n",
    "name = 'shiva'\n",
    "G = greeting + ', ' + name +'. Welcome'\n",
    "print(G)\n",
    "\n",
    "message = '{}, {}. Welcome'.format(greeting, name)\n",
    "print(message)\n",
    "\n",
    "\n",
    "message = f'{greeting}, {name.upper()}. Welcome!'\n",
    "print(message)\n",
    "\n",
    "\n",
    "#print(help(str))\n",
    "\n",
    "print(help(str.lower))\n",
    "\n",
    "#print(dir(message)) # ignore __ __ \n",
    "\n"
   ]
  },
  {
   "cell_type": "markdown",
   "metadata": {},
   "source": [
    "# Numbers"
   ]
  },
  {
   "cell_type": "markdown",
   "metadata": {},
   "source": [
    "# Order of operations"
   ]
  },
  {
   "cell_type": "code",
   "execution_count": 3,
   "metadata": {},
   "outputs": [
    {
     "name": "stdout",
     "output_type": "stream",
     "text": [
      "<class 'int'>\n",
      "<class 'float'>\n"
     ]
    }
   ],
   "source": [
    "num = 2\n",
    "print(type(num))\n",
    "\n",
    "num = 2.3\n",
    "print(type(num))"
   ]
  },
  {
   "cell_type": "code",
   "execution_count": 39,
   "metadata": {},
   "outputs": [
    {
     "name": "stdout",
     "output_type": "stream",
     "text": [
      "Addition 98\n",
      "Sub 88\n",
      "Multiplication 465\n",
      "Division(gives float value) 18.6\n",
      "floor division(drops float part) 18\n",
      "exponent(pow) 6956883693\n",
      "Modulus(reminder) 3\n",
      "ABS(non -ve) 3\n",
      "Round(rounding) 4.0\n"
     ]
    }
   ],
   "source": [
    "a = 93\n",
    "b = 5\n",
    "print(\"Addition\",a+b)\n",
    "print(\"Sub\",a-b)\n",
    "print(\"Multiplication\",a*b)\n",
    "print(\"Division(gives float value)\",a/b)\n",
    "print(\"floor division(drops float part)\",a//b)\n",
    "print(\"exponent(pow)\",a**b)\n",
    "print(\"Modulus(reminder)\",a%b)\n",
    "\n",
    "\n",
    "print(\"ABS(non -ve)\",abs(-3))\n",
    "print(\"Round(rounding)\",round(3.99, 1))"
   ]
  },
  {
   "cell_type": "code",
   "execution_count": 30,
   "metadata": {},
   "outputs": [
    {
     "name": "stdout",
     "output_type": "stream",
     "text": [
      "2\n",
      "30\n"
     ]
    }
   ],
   "source": [
    "num = 1\n",
    "num = num + 1\n",
    "print(num)\n",
    "\n",
    "num = 6\n",
    "num *= 5\n",
    "print(num)"
   ]
  },
  {
   "cell_type": "markdown",
   "metadata": {},
   "source": [
    "# Comparision"
   ]
  },
  {
   "cell_type": "code",
   "execution_count": 43,
   "metadata": {},
   "outputs": [
    {
     "name": "stdout",
     "output_type": "stream",
     "text": [
      "False\n",
      "True\n",
      "False\n",
      "True\n",
      "False\n",
      "True\n"
     ]
    }
   ],
   "source": [
    "num1 = 1\n",
    "num2 = 3\n",
    "print(num1 == num2)\n",
    "print(num1 != num2)\n",
    "print(num1 > num2)\n",
    "print(num1 < num2)\n",
    "print(num1 >= num2)\n",
    "print(num1 <= num2)"
   ]
  },
  {
   "cell_type": "code",
   "execution_count": 45,
   "metadata": {},
   "outputs": [
    {
     "name": "stdout",
     "output_type": "stream",
     "text": [
      "1232\n",
      "44\n"
     ]
    }
   ],
   "source": [
    "num1 = '12'\n",
    "num2 = '32'\n",
    "print(num1+ num2)\n",
    "num1 = int(num1)\n",
    "num2 = int(num2)\n",
    "print(num1+ num2)"
   ]
  },
  {
   "cell_type": "markdown",
   "metadata": {},
   "source": [
    "# Lists, Sets and Tuple"
   ]
  },
  {
   "cell_type": "code",
   "execution_count": 90,
   "metadata": {},
   "outputs": [
    {
     "name": "stdout",
     "output_type": "stream",
     "text": [
      "<class 'list'>\n",
      "<class 'list'>\n",
      "<class 'tuple'>\n",
      "<class 'tuple'>\n",
      "<class 'dict'>\n",
      "<class 'set'>\n"
     ]
    }
   ],
   "source": [
    "\n",
    "# Empty Lists\n",
    "empty_list = []\n",
    "print(type(empty_list))\n",
    "empty_list = list()\n",
    "print(type(empty_list))\n",
    "\n",
    "# Empty Tuples\n",
    "empty_tuple = ()\n",
    "print(type(empty_tuple))\n",
    "empty_tuple = tuple()\n",
    "print(type(empty_tuple))\n",
    "\n",
    "# Empty Sets\n",
    "empty_set = {} # This isn't right! It's a dict\n",
    "print(type(empty_set))\n",
    "empty_set = set()\n",
    "print(type(empty_set))"
   ]
  },
  {
   "cell_type": "markdown",
   "metadata": {},
   "source": [
    "# Dictionary"
   ]
  },
  {
   "cell_type": "code",
   "execution_count": 111,
   "metadata": {},
   "outputs": [
    {
     "name": "stdout",
     "output_type": "stream",
     "text": [
      "{'name': 'shiva', 'age': 30, 'city': 'hyd'}\n",
      "shiva\n",
      "Not Found\n",
      "{'name': 'shiva kumar', 'age': 30, 'city': 'hyd'}\n",
      "{'name': 'shiva kumar', 'age': 30, 'city': 'hyd', 'country': 'India'}\n",
      "India\n",
      "{'name': 'MSK', 'age': 30, 'city': 'hyd', 'country': 'India', 'phone': '123'}\n",
      "{'name': 'MSK', 'city': 'hyd', 'country': 'India', 'phone': '123'}\n",
      "{'name': 'shiva', 'city': 'hyd'}\n",
      "30\n"
     ]
    }
   ],
   "source": [
    "students = {'name':'shiva', 'age':30,'city':'hyd'}\n",
    "print(students)\n",
    "print(students['name'])\n",
    "\n",
    "#print(students['country']) doesnt work, because country key is not availble\n",
    "print(students.get('country','Not Found')) # it doesnt throw error, it throws \"none'\"\n",
    "\n",
    "students['name']= 'shiva kumar'\n",
    "print(students)\n",
    "\n",
    "students['country']= 'India'\n",
    "print(students)\n",
    "\n",
    "print(students.get('country','Not Found')) # it doesnt throw error, it throws \"none'\"\n",
    "\n",
    "\n",
    "students.update({'name':'MSK', 'phone':'123'})\n",
    "print(students)\n",
    "\n",
    "del students['age']\n",
    "print(students)\n",
    "\n",
    "students = {'name':'shiva', 'age':30,'city':'hyd'}\n",
    "age = students.pop('age')\n",
    "print(students)\n",
    "print(age)"
   ]
  },
  {
   "cell_type": "code",
   "execution_count": 117,
   "metadata": {},
   "outputs": [
    {
     "name": "stdout",
     "output_type": "stream",
     "text": [
      "3\n",
      "dict_keys(['name', 'age', 'city'])\n",
      "dict_values(['shiva', 30, 'hyd'])\n",
      "dict_items([('name', 'shiva'), ('age', 30), ('city', 'hyd')])\n",
      "name shiva\n",
      "age 30\n",
      "city hyd\n"
     ]
    }
   ],
   "source": [
    "\n",
    "students = {'name':'shiva', 'age':30,'city':'hyd'}\n",
    "\n",
    "print(len(students))\n",
    "print(students.keys())\n",
    "print(students.values())\n",
    "print(students.items())\n",
    "\n",
    "for K, V in students.items():\n",
    "    print(K,V) "
   ]
  },
  {
   "cell_type": "code",
   "execution_count": null,
   "metadata": {},
   "outputs": [],
   "source": []
  }
 ],
 "metadata": {
  "kernelspec": {
   "display_name": "Python 3",
   "language": "python",
   "name": "python3"
  },
  "language_info": {
   "codemirror_mode": {
    "name": "ipython",
    "version": 3
   },
   "file_extension": ".py",
   "mimetype": "text/x-python",
   "name": "python",
   "nbconvert_exporter": "python",
   "pygments_lexer": "ipython3",
   "version": "3.7.4"
  }
 },
 "nbformat": 4,
 "nbformat_minor": 2
}
