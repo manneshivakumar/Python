{
 "cells": [
  {
   "cell_type": "code",
   "execution_count": 6,
   "metadata": {},
   "outputs": [
    {
     "name": "stdout",
     "output_type": "stream",
     "text": [
      "1\n",
      "4\n",
      "9\n",
      "16\n",
      "25\n"
     ]
    }
   ],
   "source": [
    "def sq_numbers(nums):\n",
    "    for i in nums:\n",
    "        yield i*i\n",
    "        \n",
    "        \n",
    "nums = [1,2,3,4,5]\n",
    "k = sq_numbers(nums)\n",
    "\n",
    "#print(next(k))\n",
    "#print(next(k))\n",
    "#print(next(k))\n",
    "\n",
    "for i in k:\n",
    "    print(i)"
   ]
  },
  {
   "cell_type": "code",
   "execution_count": 13,
   "metadata": {},
   "outputs": [
    {
     "name": "stdout",
     "output_type": "stream",
     "text": [
      "[1, 4, 9, 16, 25]\n",
      "1\n",
      "4\n",
      "9\n",
      "16\n",
      "25\n",
      "[1, 4, 9, 16, 25]\n",
      "<generator object <genexpr> at 0x104f73250>\n"
     ]
    }
   ],
   "source": [
    "# list comprehinsion\n",
    "\n",
    "nums = [x*x for x in [1,2,3,4,5]]\n",
    "print(nums)\n",
    "for i in nums:\n",
    "    print(i)\n",
    "\n",
    "nums = (x*x for x in [1,2,3,4,5])\n",
    "\n",
    "print(nums)  \n",
    "\n",
    "for i in nums:\n",
    "    print(i)"
   ]
  },
  {
   "cell_type": "code",
   "execution_count": null,
   "metadata": {},
   "outputs": [],
   "source": []
  },
  {
   "cell_type": "code",
   "execution_count": null,
   "metadata": {},
   "outputs": [],
   "source": []
  }
 ],
 "metadata": {
  "kernelspec": {
   "display_name": "Python 3",
   "language": "python",
   "name": "python3"
  },
  "language_info": {
   "codemirror_mode": {
    "name": "ipython",
    "version": 3
   },
   "file_extension": ".py",
   "mimetype": "text/x-python",
   "name": "python",
   "nbconvert_exporter": "python",
   "pygments_lexer": "ipython3",
   "version": "3.7.4"
  }
 },
 "nbformat": 4,
 "nbformat_minor": 2
}
